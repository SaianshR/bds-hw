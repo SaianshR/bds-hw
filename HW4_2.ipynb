{
 "cells": [
  {
   "cell_type": "markdown",
   "metadata": {},
   "source": [
    "Problem 2\n",
    "\n",
    "You will repeat the previous problem but for the MNIST dataset which you will find here: https://www.openml.org/d/554. MNIST is a dataset of handwritten digits, and is considered one of the easiest image recognition problems in computer vision. We will see here how well logistic regression does, as you did above on the CIFAR-10 subset. In addition, we will see that we can visualize the solution, and that in connection to this, sparsity can be useful."
   ]
  },
  {
   "cell_type": "code",
   "execution_count": 6,
   "metadata": {},
   "outputs": [
    {
     "name": "stdout",
     "output_type": "stream",
     "text": [
      "Training Score:  0.8887619047619048\n",
      "Test Score:  0.8853142857142857\n",
      "Best C  0.0010\n",
      "Training Loss:  0.4257361494413297\n",
      "Test Loss:  0.43306988418432596\n"
     ]
    }
   ],
   "source": [
    "#Fetch the MNIST dataset.\n",
    "\n",
    "import numpy as np\n",
    "import matplotlib.pyplot as plt\n",
    "from sklearn.datasets import fetch_openml\n",
    "from sklearn.model_selection import train_test_split\n",
    "from sklearn.preprocessing import StandardScaler\n",
    "from sklearn.linear_model import LogisticRegression\n",
    "\n",
    "mnist = fetch_openml('mnist_784', version=1, cache=True)\n",
    "mnist.target = mnist.target.astype(np.int8)\n",
    "X = mnist[\"data\"]\n",
    "y = mnist[\"target\"]\n",
    "\n",
    "#Split the dataset into training and test sets.\n",
    "X_train, X_test, y_train, y_test = train_test_split(X, y, test_size=0.25, train_size=0.75)\n",
    "scaler = StandardScaler()\n",
    "X_train = scaler.fit_transform(X_train)\n",
    "X_test = scaler.transform(X_test)\n",
    "\n",
    "#Run multi-class logistic regression\n",
    "clf = LogisticRegression(C=50/len(X_train), multi_class='multinomial', solver=\"saga\", tol=0.1)\n",
    "clf.fit(X_train, y_train)\n",
    "test_score = clf.score(X_test, y_test)\n",
    "train_score = clf.score(X_train, y_train)\n",
    "print(\"Training Score: \", train_score)\n",
    "print(\"Test Score: \", test_score)\n",
    "print('Best C % .4f' % clf.C)\n",
    "\n",
    "#Report training and test loss\n",
    "from sklearn.metrics import log_loss\n",
    "y_train_pred = clf.predict_proba(X_train)\n",
    "y_test_pred = clf.predict_proba(X_test)\n",
    "train_loss = log_loss(y_train, y_train_pred)\n",
    "test_loss = log_loss(y_test, y_test_pred)\n",
    "print(\"Training Loss: \", train_loss)\n",
    "print(\"Test Loss: \", test_loss)\n",
    "\n"
   ]
  },
  {
   "cell_type": "code",
   "execution_count": 12,
   "metadata": {},
   "outputs": [
    {
     "name": "stdout",
     "output_type": "stream",
     "text": [
      "Sparsity with L1 penalty: 82.98%\n",
      "Test score with L1 penalty: 0.8390\n",
      "Training Score with l1 penalty:  0.8388\n"
     ]
    }
   ],
   "source": [
    "#Choose an ℓ1 regularizer (penalty), and see if you can get a sparse solution with almost as good accuracy.\n",
    "clf = LogisticRegression(C=50/len(X_train), multi_class='multinomial', solver=\"saga\", tol=0.1, penalty=\"l1\")\n",
    "clf.fit(X_train, y_train)\n",
    "sparsity = np.mean(clf.coef_ == 0) * 100\n",
    "test_score = clf.score(X_test, y_test)\n",
    "train_score = clf.score(X_train, y_train)\n",
    "print(\"Sparsity with L1 penalty: %.2f%%\" % sparsity)\n",
    "print(\"Test score with L1 penalty: %.4f\" % test_score)\n",
    "print(\"Training Score with l1 penalty: \", train_score)"
   ]
  },
  {
   "cell_type": "code",
   "execution_count": 13,
   "metadata": {},
   "outputs": [
    {
     "data": {
      "image/png": "[encoded data removed]",
      "text/plain": [
       "<Figure size 720x360 with 10 Axes>"
      ]
     },
     "metadata": {},
     "output_type": "display_data"
    }
   ],
   "source": [
    "#Note that in Logistic Regression, the coefficients returned (i.e., the β’s) are the same dimension as the data.\n",
    "#Therefore we can pretend that the coefficients of the solution are an image of the same dimension, and plot it.\n",
    "#Do this for the 10 sets of coefficients that correspond to the 10 classes.\n",
    "#You should observe that, at least for the sparse solutions, these “kind of” look like the digits they are classifying.\n",
    "\n",
    "#Plot the coefficients\n",
    "plt.figure(figsize=(10, 5))\n",
    "scale = np.abs(clf.coef_).max()\n",
    "for i in range(10):\n",
    "    l1_plot = plt.subplot(2, 5, i + 1)\n",
    "    l1_plot.imshow(clf.coef_[i].reshape(28, 28), interpolation='nearest', cmap=plt.cm.RdBu, vmin=-scale, vmax=scale)\n",
    "    l1_plot.set_xticks(())\n",
    "    l1_plot.set_yticks(())\n",
    "    l1_plot.set_xlabel('Class %i' % i)\n",
    "plt.suptitle('Classification vector for 10 sets of coefficients for the 10 classes')\n",
    "plt.show()\n",
    "\n"
   ]
  }
 ],
 "metadata": {
  "kernelspec": {
   "display_name": "Python 3.10.5 64-bit",
   "language": "python",
   "name": "python3"
  },
  "language_info": {
   "codemirror_mode": {
    "name": "ipython",
    "version": 3
   },
   "file_extension": ".py",
   "mimetype": "text/x-python",
   "name": "python",
   "nbconvert_exporter": "python",
   "pygments_lexer": "ipython3",
   "version": "3.10.5"
  },
  "orig_nbformat": 4,
  "vscode": {
   "interpreter": {
    "hash": "aee8b7b246df8f9039afb4144a1f6fd8d2ca17a180786b69acc140d282b71a49"
   }
  }
 },
 "nbformat": 4,
 "nbformat_minor": 2
}
