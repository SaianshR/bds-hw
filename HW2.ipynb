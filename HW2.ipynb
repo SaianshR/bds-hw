{
 "cells": [
  {
   "cell_type": "code",
   "execution_count": 1,
   "metadata": {},
   "outputs": [],
   "source": [
    "import pandas as pd\n",
    "import matplotlib.pyplot as plt\n",
    "%matplotlib inline"
   ]
  },
  {
   "cell_type": "code",
   "execution_count": 58,
   "metadata": {},
   "outputs": [],
   "source": [
    "collater=open(\"allnames.csv\",\"w+\") \n",
    "\n",
    "for i in range(1880,2015):\n",
    "    f = open(\"Names/yob\"+str(i)+\".txt\")\n",
    "    for row in f:\n",
    "        collater.write(str(i) + ', ' + row)\n",
    "    f.close()\n",
    "collater.close()"
   ]
  },
  {
   "cell_type": "code",
   "execution_count": 59,
   "metadata": {},
   "outputs": [],
   "source": [
    "df = pd.read_csv('allnames.csv')"
   ]
  },
  {
   "cell_type": "code",
   "execution_count": 60,
   "metadata": {},
   "outputs": [
    {
     "data": {
      "text/html": [
       "<div>\n",
       "<style scoped>\n",
       "    .dataframe tbody tr th:only-of-type {\n",
       "        vertical-align: middle;\n",
       "    }\n",
       "\n",
       "    .dataframe tbody tr th {\n",
       "        vertical-align: top;\n",
       "    }\n",
       "\n",
       "    .dataframe thead th {\n",
       "        text-align: right;\n",
       "    }\n",
       "</style>\n",
       "<table border=\"1\" class=\"dataframe\">\n",
       "  <thead>\n",
       "    <tr style=\"text-align: right;\">\n",
       "      <th></th>\n",
       "      <th>Year</th>\n",
       "      <th>Name</th>\n",
       "      <th>Sex</th>\n",
       "      <th>Freq</th>\n",
       "    </tr>\n",
       "  </thead>\n",
       "  <tbody>\n",
       "    <tr>\n",
       "      <th>0</th>\n",
       "      <td>1880</td>\n",
       "      <td>Anna</td>\n",
       "      <td>F</td>\n",
       "      <td>2604</td>\n",
       "    </tr>\n",
       "    <tr>\n",
       "      <th>1</th>\n",
       "      <td>1880</td>\n",
       "      <td>Emma</td>\n",
       "      <td>F</td>\n",
       "      <td>2003</td>\n",
       "    </tr>\n",
       "    <tr>\n",
       "      <th>2</th>\n",
       "      <td>1880</td>\n",
       "      <td>Elizabeth</td>\n",
       "      <td>F</td>\n",
       "      <td>1939</td>\n",
       "    </tr>\n",
       "    <tr>\n",
       "      <th>3</th>\n",
       "      <td>1880</td>\n",
       "      <td>Minnie</td>\n",
       "      <td>F</td>\n",
       "      <td>1746</td>\n",
       "    </tr>\n",
       "    <tr>\n",
       "      <th>4</th>\n",
       "      <td>1880</td>\n",
       "      <td>Margaret</td>\n",
       "      <td>F</td>\n",
       "      <td>1578</td>\n",
       "    </tr>\n",
       "  </tbody>\n",
       "</table>\n",
       "</div>"
      ],
      "text/plain": [
       "   Year        Name Sex  Freq\n",
       "0  1880        Anna   F  2604\n",
       "1  1880        Emma   F  2003\n",
       "2  1880   Elizabeth   F  1939\n",
       "3  1880      Minnie   F  1746\n",
       "4  1880    Margaret   F  1578"
      ]
     },
     "execution_count": 60,
     "metadata": {},
     "output_type": "execute_result"
    }
   ],
   "source": [
    "df.columns = ['Year', 'Name', 'Sex', 'Freq']\n",
    "df.head()"
   ]
  },
  {
   "cell_type": "code",
   "execution_count": 62,
   "metadata": {},
   "outputs": [
    {
     "name": "stdout",
     "output_type": "stream",
     "text": [
      "enter k: \n",
      "enter yyyy: \n"
     ]
    },
    {
     "data": {
      "text/html": [
       "<div>\n",
       "<style scoped>\n",
       "    .dataframe tbody tr th:only-of-type {\n",
       "        vertical-align: middle;\n",
       "    }\n",
       "\n",
       "    .dataframe tbody tr th {\n",
       "        vertical-align: top;\n",
       "    }\n",
       "\n",
       "    .dataframe thead th {\n",
       "        text-align: right;\n",
       "    }\n",
       "</style>\n",
       "<table border=\"1\" class=\"dataframe\">\n",
       "  <thead>\n",
       "    <tr style=\"text-align: right;\">\n",
       "      <th></th>\n",
       "      <th>Year</th>\n",
       "      <th>Name</th>\n",
       "      <th>Sex</th>\n",
       "      <th>Freq</th>\n",
       "    </tr>\n",
       "  </thead>\n",
       "  <tbody>\n",
       "    <tr>\n",
       "      <th>1186454</th>\n",
       "      <td>1994</td>\n",
       "      <td>Michael</td>\n",
       "      <td>M</td>\n",
       "      <td>44462</td>\n",
       "    </tr>\n",
       "    <tr>\n",
       "      <th>1186455</th>\n",
       "      <td>1994</td>\n",
       "      <td>Christopher</td>\n",
       "      <td>M</td>\n",
       "      <td>34797</td>\n",
       "    </tr>\n",
       "    <tr>\n",
       "      <th>1186456</th>\n",
       "      <td>1994</td>\n",
       "      <td>Matthew</td>\n",
       "      <td>M</td>\n",
       "      <td>33646</td>\n",
       "    </tr>\n",
       "    <tr>\n",
       "      <th>1170701</th>\n",
       "      <td>1994</td>\n",
       "      <td>Jessica</td>\n",
       "      <td>F</td>\n",
       "      <td>32117</td>\n",
       "    </tr>\n",
       "    <tr>\n",
       "      <th>1186457</th>\n",
       "      <td>1994</td>\n",
       "      <td>Joshua</td>\n",
       "      <td>M</td>\n",
       "      <td>31372</td>\n",
       "    </tr>\n",
       "    <tr>\n",
       "      <th>1186458</th>\n",
       "      <td>1994</td>\n",
       "      <td>Tyler</td>\n",
       "      <td>M</td>\n",
       "      <td>30477</td>\n",
       "    </tr>\n",
       "  </tbody>\n",
       "</table>\n",
       "</div>"
      ],
      "text/plain": [
       "         Year          Name Sex   Freq\n",
       "1186454  1994       Michael   M  44462\n",
       "1186455  1994   Christopher   M  34797\n",
       "1186456  1994       Matthew   M  33646\n",
       "1170701  1994       Jessica   F  32117\n",
       "1186457  1994        Joshua   M  31372\n",
       "1186458  1994         Tyler   M  30477"
      ]
     },
     "execution_count": 62,
     "metadata": {},
     "output_type": "execute_result"
    }
   ],
   "source": [
    "# 3-1 : input k, XXXX -> top k names from the year XXXX\n",
    "\n",
    "print('enter k: ')\n",
    "k = int(input())\n",
    "print('enter yyyy: ')\n",
    "y = int(input())\n",
    "\n",
    "# temp = open(\"temp.csv\", \"w+\")\n",
    "# f1 = open(\"Names/yob\"+str(y)+\".txt\")\n",
    "# for r in f1:\n",
    "#    temp.write(r)\n",
    "# f1.close()\n",
    "# temp.close()\n",
    "\n",
    "df1 = df[df['Year']==y]\n",
    "df1 = df1.astype({'Freq': int})\n",
    "df1.nlargest(k, 'Freq', keep='all')"
   ]
  },
  {
   "cell_type": "code",
   "execution_count": 78,
   "metadata": {},
   "outputs": [
    {
     "ename": "InvalidIndexError",
     "evalue": "(0          False\n1          False\n2          False\n3          False\n4          False\n           ...  \n1825731    False\n1825732    False\n1825733    False\n1825734    False\n1825735    False\nLength: 1825736, dtype: bool, 'Freq')",
     "output_type": "error",
     "traceback": [
      "\u001b[0;31m---------------------------------------------------------------------------\u001b[0m",
      "\u001b[0;31mTypeError\u001b[0m                                 Traceback (most recent call last)",
      "File \u001b[0;32m~/opt/anaconda3/lib/python3.9/site-packages/pandas/core/indexes/base.py:3621\u001b[0m, in \u001b[0;36mIndex.get_loc\u001b[0;34m(self, key, method, tolerance)\u001b[0m\n\u001b[1;32m   3620\u001b[0m \u001b[39mtry\u001b[39;00m:\n\u001b[0;32m-> 3621\u001b[0m     \u001b[39mreturn\u001b[39;00m \u001b[39mself\u001b[39;49m\u001b[39m.\u001b[39;49m_engine\u001b[39m.\u001b[39;49mget_loc(casted_key)\n\u001b[1;32m   3622\u001b[0m \u001b[39mexcept\u001b[39;00m \u001b[39mKeyError\u001b[39;00m \u001b[39mas\u001b[39;00m err:\n",
      "File \u001b[0;32m~/opt/anaconda3/lib/python3.9/site-packages/pandas/_libs/index.pyx:136\u001b[0m, in \u001b[0;36mpandas._libs.index.IndexEngine.get_loc\u001b[0;34m()\u001b[0m\n",
      "File \u001b[0;32m~/opt/anaconda3/lib/python3.9/site-packages/pandas/_libs/index.pyx:142\u001b[0m, in \u001b[0;36mpandas._libs.index.IndexEngine.get_loc\u001b[0;34m()\u001b[0m\n",
      "\u001b[0;31mTypeError\u001b[0m: '(0          False\n1          False\n2          False\n3          False\n4          False\n           ...  \n1825731    False\n1825732    False\n1825733    False\n1825734    False\n1825735    False\nLength: 1825736, dtype: bool, 'Freq')' is an invalid key",
      "\nDuring handling of the above exception, another exception occurred:\n",
      "\u001b[0;31mInvalidIndexError\u001b[0m                         Traceback (most recent call last)",
      "\u001b[1;32m/Users/saiansh/mycode/bds/hw/HW2.ipynb Cell 6\u001b[0m in \u001b[0;36m<cell line: 5>\u001b[0;34m()\u001b[0m\n\u001b[1;32m      <a href='vscode-notebook-cell:/Users/saiansh/mycode/bds/hw/HW2.ipynb#W4sZmlsZQ%3D%3D?line=0'>1</a>\u001b[0m \u001b[39m# 3-2 : input Name -> freq for men & women of same Name\u001b[39;00m\n\u001b[1;32m      <a href='vscode-notebook-cell:/Users/saiansh/mycode/bds/hw/HW2.ipynb#W4sZmlsZQ%3D%3D?line=2'>3</a>\u001b[0m name \u001b[39m=\u001b[39m \u001b[39minput\u001b[39m()\n\u001b[0;32m----> <a href='vscode-notebook-cell:/Users/saiansh/mycode/bds/hw/HW2.ipynb#W4sZmlsZQ%3D%3D?line=4'>5</a>\u001b[0m df[(df[\u001b[39m'\u001b[39;49m\u001b[39mName\u001b[39;49m\u001b[39m'\u001b[39;49m]\u001b[39m==\u001b[39;49mname) \u001b[39m&\u001b[39;49m (df[\u001b[39m'\u001b[39;49m\u001b[39mSex\u001b[39;49m\u001b[39m'\u001b[39;49m]\u001b[39m==\u001b[39;49m\u001b[39m'\u001b[39;49m\u001b[39mM\u001b[39;49m\u001b[39m'\u001b[39;49m), \u001b[39m'\u001b[39;49m\u001b[39mFreq\u001b[39;49m\u001b[39m'\u001b[39;49m]\u001b[39m.\u001b[39msum()\n\u001b[1;32m      <a href='vscode-notebook-cell:/Users/saiansh/mycode/bds/hw/HW2.ipynb#W4sZmlsZQ%3D%3D?line=5'>6</a>\u001b[0m df[(df[\u001b[39m'\u001b[39m\u001b[39mName\u001b[39m\u001b[39m'\u001b[39m]\u001b[39m==\u001b[39mname) \u001b[39m&\u001b[39m (df[\u001b[39m'\u001b[39m\u001b[39mSex\u001b[39m\u001b[39m'\u001b[39m]\u001b[39m==\u001b[39m\u001b[39m'\u001b[39m\u001b[39mF\u001b[39m\u001b[39m'\u001b[39m), \u001b[39m'\u001b[39m\u001b[39mFreq\u001b[39m\u001b[39m'\u001b[39m]\u001b[39m.\u001b[39msum()\n",
      "File \u001b[0;32m~/opt/anaconda3/lib/python3.9/site-packages/pandas/core/frame.py:3505\u001b[0m, in \u001b[0;36mDataFrame.__getitem__\u001b[0;34m(self, key)\u001b[0m\n\u001b[1;32m   3503\u001b[0m \u001b[39mif\u001b[39;00m \u001b[39mself\u001b[39m\u001b[39m.\u001b[39mcolumns\u001b[39m.\u001b[39mnlevels \u001b[39m>\u001b[39m \u001b[39m1\u001b[39m:\n\u001b[1;32m   3504\u001b[0m     \u001b[39mreturn\u001b[39;00m \u001b[39mself\u001b[39m\u001b[39m.\u001b[39m_getitem_multilevel(key)\n\u001b[0;32m-> 3505\u001b[0m indexer \u001b[39m=\u001b[39m \u001b[39mself\u001b[39;49m\u001b[39m.\u001b[39;49mcolumns\u001b[39m.\u001b[39;49mget_loc(key)\n\u001b[1;32m   3506\u001b[0m \u001b[39mif\u001b[39;00m is_integer(indexer):\n\u001b[1;32m   3507\u001b[0m     indexer \u001b[39m=\u001b[39m [indexer]\n",
      "File \u001b[0;32m~/opt/anaconda3/lib/python3.9/site-packages/pandas/core/indexes/base.py:3628\u001b[0m, in \u001b[0;36mIndex.get_loc\u001b[0;34m(self, key, method, tolerance)\u001b[0m\n\u001b[1;32m   3623\u001b[0m         \u001b[39mraise\u001b[39;00m \u001b[39mKeyError\u001b[39;00m(key) \u001b[39mfrom\u001b[39;00m \u001b[39merr\u001b[39;00m\n\u001b[1;32m   3624\u001b[0m     \u001b[39mexcept\u001b[39;00m \u001b[39mTypeError\u001b[39;00m:\n\u001b[1;32m   3625\u001b[0m         \u001b[39m# If we have a listlike key, _check_indexing_error will raise\u001b[39;00m\n\u001b[1;32m   3626\u001b[0m         \u001b[39m#  InvalidIndexError. Otherwise we fall through and re-raise\u001b[39;00m\n\u001b[1;32m   3627\u001b[0m         \u001b[39m#  the TypeError.\u001b[39;00m\n\u001b[0;32m-> 3628\u001b[0m         \u001b[39mself\u001b[39;49m\u001b[39m.\u001b[39;49m_check_indexing_error(key)\n\u001b[1;32m   3629\u001b[0m         \u001b[39mraise\u001b[39;00m\n\u001b[1;32m   3631\u001b[0m \u001b[39m# GH#42269\u001b[39;00m\n",
      "File \u001b[0;32m~/opt/anaconda3/lib/python3.9/site-packages/pandas/core/indexes/base.py:5637\u001b[0m, in \u001b[0;36mIndex._check_indexing_error\u001b[0;34m(self, key)\u001b[0m\n\u001b[1;32m   5633\u001b[0m \u001b[39mdef\u001b[39;00m \u001b[39m_check_indexing_error\u001b[39m(\u001b[39mself\u001b[39m, key):\n\u001b[1;32m   5634\u001b[0m     \u001b[39mif\u001b[39;00m \u001b[39mnot\u001b[39;00m is_scalar(key):\n\u001b[1;32m   5635\u001b[0m         \u001b[39m# if key is not a scalar, directly raise an error (the code below\u001b[39;00m\n\u001b[1;32m   5636\u001b[0m         \u001b[39m# would convert to numpy arrays and raise later any way) - GH29926\u001b[39;00m\n\u001b[0;32m-> 5637\u001b[0m         \u001b[39mraise\u001b[39;00m InvalidIndexError(key)\n",
      "\u001b[0;31mInvalidIndexError\u001b[0m: (0          False\n1          False\n2          False\n3          False\n4          False\n           ...  \n1825731    False\n1825732    False\n1825733    False\n1825734    False\n1825735    False\nLength: 1825736, dtype: bool, 'Freq')"
     ]
    }
   ],
   "source": [
    "# 3-2 : input Name -> freq for men & women of same Name\n",
    "\n",
    "name = input()\n",
    "\n",
    "df[(df['Name']==name) & (df['Sex']=='M'), 'Freq'].sum()\n",
    "df[(df['Name']==name) & (df['Sex']=='F'), 'Freq'].sum()"
   ]
  },
  {
   "cell_type": "code",
   "execution_count": null,
   "metadata": {},
   "outputs": [],
   "source": [
    "# 3-3 : relative frequency"
   ]
  }
 ],
 "metadata": {
  "kernelspec": {
   "display_name": "Python 3.9.12 ('base')",
   "language": "python",
   "name": "python3"
  },
  "language_info": {
   "codemirror_mode": {
    "name": "ipython",
    "version": 3
   },
   "file_extension": ".py",
   "mimetype": "text/x-python",
   "name": "python",
   "nbconvert_exporter": "python",
   "pygments_lexer": "ipython3",
   "version": "3.9.12"
  },
  "orig_nbformat": 4,
  "vscode": {
   "interpreter": {
    "hash": "a2f36d4f0fab32c067f747ee04c69255073dcd12dd897c9c524bc34636b9f1b8"
   }
  }
 },
 "nbformat": 4,
 "nbformat_minor": 2
}
